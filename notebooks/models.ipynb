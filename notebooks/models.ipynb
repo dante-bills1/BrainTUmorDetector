{
 "cells": [
  {
   "cell_type": "code",
   "execution_count": 36,
   "id": "2c2a681f-f82d-4c9c-ba95-6d72bad9ad67",
   "metadata": {
    "tags": []
   },
   "outputs": [],
   "source": [
    "import pandas as pd\n",
    "import numpy as np\n",
    "import warnings\n",
    "warnings.filterwarnings(\"ignore\")\n",
    "import os\n",
    "os.environ['TF_CPP_MIN_LOG_LEVEL'] = '3'\n",
    "import sys\n",
    "import tensorflow as tf\n",
    "from tensorflow import keras\n",
    "from tensorflow.keras.models import Sequential\n",
    "from tensorflow.keras.applications import VGG16\n",
    "from tensorflow.keras.layers import Input, Dense, Flatten, Conv2D, MaxPooling2D, Dropout, BatchNormalization\n",
    "from tensorflow.keras.preprocessing.image import ImageDataGenerator\n",
    "from tensorflow.keras.optimizers import Adam, SGD\n",
    "from tensorflow.keras.callbacks import EarlyStopping, ReduceLROnPlateau, ModelCheckpoint\n",
    "import cv2\n",
    "import matplotlib.pyplot as plt\n",
    "import seaborn as sns\n",
    "from sklearn.metrics import confusion_matrix, ConfusionMatrixDisplay, classification_report"
   ]
  },
  {
   "cell_type": "code",
   "execution_count": 10,
   "id": "3b0a5807-58dc-4bda-9587-454c53b14e37",
   "metadata": {},
   "outputs": [],
   "source": [
    "try:\n",
    "    with open (\"../config.yaml\", 'r') as file:\n",
    "        config = yaml.safe_load(file)\n",
    "except Exception as e:\n",
    "    print('Error reading the config file')"
   ]
  },
  {
   "cell_type": "code",
   "execution_count": 11,
   "id": "a91fc025-73bc-4ea4-821d-f5cf0b152889",
   "metadata": {
    "tags": []
   },
   "outputs": [],
   "source": [
    "sys.path.insert(0, os.path.abspath(config['lib']))"
   ]
  },
  {
   "cell_type": "markdown",
   "id": "bdc4fd62-7baf-46b6-b4e4-797e7a2836a6",
   "metadata": {
    "tags": []
   },
   "source": [
    "## Setting directories, showing some pictures"
   ]
  },
  {
   "cell_type": "code",
   "execution_count": null,
   "id": "78b1fb81-3ed8-4deb-99c3-b155a1141f89",
   "metadata": {},
   "outputs": [],
   "source": [
    "data_dir = ('../data/raw/Training')\n",
    "categories = ['glioma', 'meningioma', 'notumor', 'pituitary']\n",
    "for i in categories:\n",
    "    path = os.path.join(data_dir, i)\n",
    "    for img in os.listdir(path):\n",
    "        img_array = cv2.imread(os.path.join(path,img)) "
   ]
  },
  {
   "cell_type": "code",
   "execution_count": null,
   "id": "6ad43067-598a-47a9-b020-9705ce08a0e8",
   "metadata": {
    "tags": []
   },
   "outputs": [],
   "source": [
    "plt.imshow(img_array);"
   ]
  },
  {
   "cell_type": "code",
   "execution_count": null,
   "id": "7e063a64-4970-4308-9ce4-44c75f7df83b",
   "metadata": {
    "tags": []
   },
   "outputs": [],
   "source": [
    "img_array.shape"
   ]
  },
  {
   "cell_type": "code",
   "execution_count": null,
   "id": "ff85f068-5c2e-408a-bd4a-a3e0b3ed4ff0",
   "metadata": {
    "tags": []
   },
   "outputs": [],
   "source": [
    "plt.figure(figsize=(20, 16))\n",
    "\n",
    "images_path = ['/glioma/Tr-glTr_0000.jpg', '/meningioma/Tr-meTr_0000.jpg', '/notumor/Tr-noTr_0000.jpg', '/pituitary/Tr-piTr_0000.jpg']\n",
    "\n",
    "for i in range(4):\n",
    "    ax = plt.subplot(2, 2, i + 1)\n",
    "    img = cv2.imread(data_dir + images_path[i])\n",
    "    img = cv2.resize(img, (250, 250))\n",
    "    plt.imshow(img)\n",
    "    plt.title(categories[i])"
   ]
  },
  {
   "cell_type": "markdown",
   "id": "90c4230c-dece-4f3f-b813-071b7da06bd7",
   "metadata": {},
   "source": [
    "## MODEL 1"
   ]
  },
  {
   "cell_type": "code",
   "execution_count": 43,
   "id": "cc6e0391-d7c5-4941-b800-0b18a44bd42c",
   "metadata": {
    "tags": []
   },
   "outputs": [
    {
     "name": "stdout",
     "output_type": "stream",
     "text": [
      "Model: \"sequential\"\n",
      "_________________________________________________________________\n",
      " Layer (type)                Output Shape              Param #   \n",
      "=================================================================\n",
      " conv2d (Conv2D)             (None, 62, 62, 32)        320       \n",
      "                                                                 \n",
      " batch_normalization (BatchN  (None, 62, 62, 32)       128       \n",
      " ormalization)                                                   \n",
      "                                                                 \n",
      " max_pooling2d (MaxPooling2D  (None, 31, 31, 32)       0         \n",
      " )                                                               \n",
      "                                                                 \n",
      " conv2d_1 (Conv2D)           (None, 29, 29, 32)        9248      \n",
      "                                                                 \n",
      " batch_normalization_1 (Batc  (None, 29, 29, 32)       128       \n",
      " hNormalization)                                                 \n",
      "                                                                 \n",
      " max_pooling2d_1 (MaxPooling  (None, 14, 14, 32)       0         \n",
      " 2D)                                                             \n",
      "                                                                 \n",
      " flatten_1 (Flatten)         (None, 6272)              0         \n",
      "                                                                 \n",
      " dense_2 (Dense)             (None, 252)               1580796   \n",
      "                                                                 \n",
      " dropout_2 (Dropout)         (None, 252)               0         \n",
      "                                                                 \n",
      " dense_3 (Dense)             (None, 252)               63756     \n",
      "                                                                 \n",
      " dropout_3 (Dropout)         (None, 252)               0         \n",
      "                                                                 \n",
      " dense_4 (Dense)             (None, 4)                 1012      \n",
      "                                                                 \n",
      "=================================================================\n",
      "Total params: 1,655,388\n",
      "Trainable params: 1,655,260\n",
      "Non-trainable params: 128\n",
      "_________________________________________________________________\n"
     ]
    }
   ],
   "source": [
    "model1 = Sequential()\n",
    "\n",
    "# Layer 1\n",
    "model1.add(Conv2D(32,(3,3), input_shape=(64, 64, 1), activation='relu'))\n",
    "model1.add(BatchNormalization())\n",
    "model1.add(MaxPooling2D(pool_size=(2,2)))\n",
    "\n",
    "# Layer 2\n",
    "model1.add(Conv2D(32,(3,3), activation='relu'))\n",
    "model1.add(BatchNormalization())\n",
    "model1.add(MaxPooling2D(pool_size=(2,2)))\n",
    "\n",
    "model1.add(Flatten())\n",
    "\n",
    "\n",
    "# Neural network\n",
    "model1.add(Dense(units= 252, activation='relu'))\n",
    "model1.add(Dropout(0.2))\n",
    "model1.add(Dense(units=252, activation='relu'))\n",
    "model1.add(Dropout(0.2))\n",
    "model1.add(Dense(units=4, activation='softmax'))\n",
    "\n",
    "\n",
    "model1.summary()"
   ]
  },
  {
   "cell_type": "code",
   "execution_count": 44,
   "id": "c19e789b-a7e8-40ac-aff1-e1e961b1430c",
   "metadata": {
    "tags": []
   },
   "outputs": [
    {
     "name": "stdout",
     "output_type": "stream",
     "text": [
      "Found 5712 images belonging to 4 classes.\n",
      "Found 1311 images belonging to 4 classes.\n"
     ]
    }
   ],
   "source": [
    "optimizer = tf.keras.optimizers.Adam(learning_rate=0.001,  clipvalue=0.5)\n",
    "model1.compile(optimizer=optimizer, loss='categorical_crossentropy',\n",
    "                   metrics= ['categorical_accuracy'])\n",
    "\n",
    "generator_train = ImageDataGenerator(rescale=1./255,\n",
    "                                    featurewise_center=False,\n",
    "                                    samplewise_center=False,\n",
    "                                    featurewise_std_normalization=False,\n",
    "                                    samplewise_std_normalization=False,\n",
    "                                    zca_whitening=False,\n",
    "                                    rotation_range=0,\n",
    "                                    zoom_range = 0,\n",
    "                                    width_shift_range=0,\n",
    "                                    height_shift_range=0,\n",
    "                                    horizontal_flip=True,\n",
    "                                    vertical_flip=False) \n",
    "\n",
    "generator_test = ImageDataGenerator(rescale=1./255,\n",
    "                                    featurewise_center=False,\n",
    "                                    samplewise_center=False,\n",
    "                                    featurewise_std_normalization=False,\n",
    "                                    samplewise_std_normalization=False,\n",
    "                                    zca_whitening=False,\n",
    "                                    rotation_range=0,\n",
    "                                    zoom_range = 0,\n",
    "                                    width_shift_range=0,\n",
    "                                    height_shift_range=0,\n",
    "                                    horizontal_flip=True,\n",
    "                                    vertical_flip=False)\n",
    "\n",
    "train = generator_train.flow_from_directory('../data/raw/Training', target_size=(64,64),\n",
    "                                              batch_size=32, class_mode= \"categorical\", color_mode='grayscale')\n",
    "\n",
    "test = generator_test.flow_from_directory('../data/raw/Testing', target_size=(64,64),\n",
    "                                              batch_size=32, class_mode= \"categorical\", color_mode='grayscale')"
   ]
  },
  {
   "cell_type": "code",
   "execution_count": null,
   "id": "6ac89a71-e92e-492a-a05d-22e9eadc7db6",
   "metadata": {
    "tags": []
   },
   "outputs": [],
   "source": [
    "model1_es = EarlyStopping(monitor = 'loss', min_delta = 1e-11, patience = 12, verbose = 1)\n",
    "model1_rlr = ReduceLROnPlateau(monitor = 'val_loss', factor = 0.2, patience = 6, verbose = 1)\n",
    "model1_mcp = ModelCheckpoint(filepath = '../models/model1_weights.h5', monitor = 'val_categorical_accuracy', \n",
    "                      save_best_only = True, verbose = 2)\n",
    "\n",
    "history1 = model1.fit(train, steps_per_epoch=5712//32, epochs=10, validation_data=test, validation_steps= 1311//32,\n",
    "                     callbacks=[model1_es, model1_rlr, model1_mcp])"
   ]
  },
  {
   "cell_type": "code",
   "execution_count": null,
   "id": "d2d16a3b-6691-421f-845b-c88d78751303",
   "metadata": {
    "tags": []
   },
   "outputs": [],
   "source": [
    "model1.evaluate(test)"
   ]
  },
  {
   "cell_type": "code",
   "execution_count": null,
   "id": "a0515337-4ac3-4cfb-9779-7af03971067a",
   "metadata": {
    "tags": []
   },
   "outputs": [],
   "source": [
    "#Run this code to save the Model 1\n",
    "#model1.save('../models/model1.model')"
   ]
  },
  {
   "cell_type": "markdown",
   "id": "efb77154-cab7-4636-ac31-0bf9412319f4",
   "metadata": {},
   "source": [
    "## MODEL 2"
   ]
  },
  {
   "cell_type": "code",
   "execution_count": null,
   "id": "ecf905bc-9403-4d11-9ca7-9718eeabe0d8",
   "metadata": {
    "tags": []
   },
   "outputs": [],
   "source": [
    "model2 = Sequential()\n",
    "\n",
    "# Layer 1\n",
    "model2.add(Conv2D(64,(7,7), input_shape=(64, 64, 1), padding='same', activation='relu'))\n",
    "model2.add(BatchNormalization())\n",
    "model2.add(MaxPooling2D(pool_size=(2,2)))\n",
    "\n",
    "# Layer 2\n",
    "model2.add(Conv2D(128,(7,7), input_shape=(64, 64, 1), padding='same', activation='relu'))\n",
    "model2.add(BatchNormalization())\n",
    "model2.add(MaxPooling2D(pool_size=(2,2)))\n",
    "\n",
    "# Layer 3\n",
    "model2.add(Conv2D(256,(7,7), input_shape=(64, 64, 1), padding='same', activation='relu'))\n",
    "model2.add(BatchNormalization())\n",
    "model2.add(MaxPooling2D(pool_size=(2,2)))\n",
    "\n",
    "# Layer 4\n",
    "model2.add(Conv2D(512,(7,7), input_shape=(64, 64, 1), padding='same', activation='relu'))\n",
    "model2.add(BatchNormalization())\n",
    "model2.add(MaxPooling2D(pool_size=(2,2)))\n",
    "\n",
    "model2.add(Flatten())\n",
    "\n",
    "\n",
    "# Connect layers\n",
    "model2.add(Dense(units= 512, activation='relu'))\n",
    "model2.add(Dropout(0.2))\n",
    "model2.add(Dense(units=512, activation='relu'))\n",
    "model2.add(Dropout(0.2))\n",
    "model2.add(Dense(units=4, activation='softmax'))\n",
    "\n",
    "\n",
    "optimizer = tf.keras.optimizers.Adam(learning_rate=0.001, clipvalue=0.5)\n",
    "model2.compile(optimizer=optimizer, loss='categorical_crossentropy',\n",
    "                   metrics= ['categorical_accuracy'])\n",
    "\n",
    "\n",
    "model2.summary()"
   ]
  },
  {
   "cell_type": "code",
   "execution_count": null,
   "id": "3a60614c-b487-42dd-b77c-47580a5113ee",
   "metadata": {
    "tags": []
   },
   "outputs": [],
   "source": [
    "generator_train = ImageDataGenerator(rescale=1./255,\n",
    "                                    featurewise_center=False,\n",
    "                                    samplewise_center=False,\n",
    "                                    featurewise_std_normalization=False,\n",
    "                                    samplewise_std_normalization=False,\n",
    "                                    zca_whitening=False,\n",
    "                                    rotation_range=0,\n",
    "                                    zoom_range = 0,\n",
    "                                    width_shift_range=0,\n",
    "                                    height_shift_range=0,\n",
    "                                    horizontal_flip=True,\n",
    "                                    vertical_flip=False)\n",
    "\n",
    "generator_test = ImageDataGenerator(rescale=1./255,\n",
    "                                   featurewise_center=False,\n",
    "                                    samplewise_center=False,\n",
    "                                    featurewise_std_normalization=False,\n",
    "                                    samplewise_std_normalization=False,\n",
    "                                    zca_whitening=False,\n",
    "                                    rotation_range=0,\n",
    "                                    zoom_range = 0,\n",
    "                                    width_shift_range=0,\n",
    "                                    height_shift_range=0,\n",
    "                                    horizontal_flip=True,\n",
    "                                    vertical_flip=False)\n",
    "\n",
    "\n",
    "train = generator_train.flow_from_directory('../data/raw/Training', target_size=(64,64),\n",
    "                                              batch_size=32, class_mode= \"categorical\", color_mode='grayscale')\n",
    "\n",
    "test = generator_test.flow_from_directory('../data/raw/Testing', target_size=(64,64),\n",
    "                                              batch_size=32, class_mode= \"categorical\", color_mode='grayscale')"
   ]
  },
  {
   "cell_type": "code",
   "execution_count": null,
   "id": "8d70dacc-2dae-42f8-902a-3216882440b8",
   "metadata": {
    "tags": []
   },
   "outputs": [],
   "source": [
    "model2_es = EarlyStopping(monitor = 'loss', min_delta = 1e-11, patience = 12, verbose = 1)\n",
    "model2_rlr = ReduceLROnPlateau(monitor = 'val_loss', factor = 0.2, patience = 6, verbose = 1)\n",
    "model2_mcp = ModelCheckpoint(filepath = '../models/model2_weights.h5', monitor = 'val_categorical_accuracy', \n",
    "                      save_best_only = True, verbose = 1)\n",
    "\n",
    "history2 = model2.fit(train, steps_per_epoch=5712//32, epochs=5, validation_data=test, validation_steps= 1311//32,\n",
    "                      callbacks=[model2_es, model2_rlr, model2_mcp])"
   ]
  },
  {
   "cell_type": "code",
   "execution_count": null,
   "id": "093e7814-b64d-4446-933c-d90c61ee749e",
   "metadata": {
    "tags": []
   },
   "outputs": [],
   "source": [
    "model2.evaluate(test)"
   ]
  },
  {
   "cell_type": "code",
   "execution_count": null,
   "id": "040ad1e4-792b-4fbb-b900-7d24dcb54cea",
   "metadata": {},
   "outputs": [],
   "source": [
    "#Run this code to save the Model 2\n",
    "#model2.save('../models/model2.model')"
   ]
  },
  {
   "cell_type": "markdown",
   "id": "015a2d6b-4d17-4b11-9e93-c08cbd6f7ffc",
   "metadata": {},
   "source": [
    "## MODEL 3"
   ]
  },
  {
   "cell_type": "code",
   "execution_count": null,
   "id": "71ccc28b-55b3-4192-a548-2a25e39b1d4a",
   "metadata": {
    "tags": []
   },
   "outputs": [],
   "source": [
    "model3 = Sequential()\n",
    "\n",
    "# Layer 1\n",
    "model3.add(Conv2D(64,(7,7), input_shape=(64, 64, 1), padding='same', activation='relu'))\n",
    "model3.add(BatchNormalization())\n",
    "model3.add(MaxPooling2D(pool_size=(2,2)))\n",
    "\n",
    "# Layer 2\n",
    "model3.add(Conv2D(64,(7,7), input_shape=(64, 64, 1), padding='same', activation='relu'))\n",
    "model3.add(BatchNormalization())\n",
    "model3.add(MaxPooling2D(pool_size=(2,2)))\n",
    "\n",
    "# Layer 3\n",
    "model3.add(Conv2D(64,(7,7), input_shape=(64, 64, 1), padding='same', activation='relu'))\n",
    "model3.add(BatchNormalization())\n",
    "model3.add(MaxPooling2D(pool_size=(2,2)))\n",
    "\n",
    "model3.add(Flatten())\n",
    "\n",
    "\n",
    "# Connect layers\n",
    "model3.add(Dense(units= 512, activation='relu'))\n",
    "model3.add(Dropout(0.2))\n",
    "model3.add(Dense(units=512, activation='relu'))\n",
    "model3.add(Dropout(0.2))\n",
    "model3.add(Dense(units=4, activation='softmax'))\n",
    "\n",
    "\n",
    "optimizer = tf.keras.optimizers.Adam(learning_rate=0.001, clipvalue=0.5)\n",
    "model3.compile(optimizer=optimizer, loss='categorical_crossentropy',\n",
    "                   metrics= ['categorical_accuracy'])\n",
    "\n",
    "\n",
    "model3.summary()"
   ]
  },
  {
   "cell_type": "code",
   "execution_count": null,
   "id": "f8f28a95-a8b5-4d5c-baf9-fe5c57c21aff",
   "metadata": {
    "tags": []
   },
   "outputs": [],
   "source": [
    "generator_train = ImageDataGenerator(rescale=1./255,\n",
    "                                    featurewise_center=False,\n",
    "                                    samplewise_center=False,\n",
    "                                    featurewise_std_normalization=False,\n",
    "                                    samplewise_std_normalization=False,\n",
    "                                    zca_whitening=False,\n",
    "                                    rotation_range=0,\n",
    "                                    zoom_range = 0,\n",
    "                                    width_shift_range=0,\n",
    "                                    height_shift_range=0,\n",
    "                                    horizontal_flip=True,\n",
    "                                    vertical_flip=False)\n",
    "\n",
    "generator_test = ImageDataGenerator(rescale=1./255,\n",
    "                                   featurewise_center=False,\n",
    "                                    samplewise_center=False,\n",
    "                                    featurewise_std_normalization=False,\n",
    "                                    samplewise_std_normalization=False,\n",
    "                                    zca_whitening=False,\n",
    "                                    rotation_range=0,\n",
    "                                    zoom_range = 0,\n",
    "                                    width_shift_range=0,\n",
    "                                    height_shift_range=0,\n",
    "                                    horizontal_flip=True,\n",
    "                                    vertical_flip=False)\n",
    "\n",
    "\n",
    "train = generator_train.flow_from_directory('../data/raw/Training', target_size=(64,64),\n",
    "                                              batch_size=32, class_mode= \"categorical\", color_mode='grayscale')\n",
    "\n",
    "test = generator_test.flow_from_directory('../data/raw/Testing', target_size=(64,64),\n",
    "                                              batch_size=32, class_mode= \"categorical\", color_mode='grayscale')"
   ]
  },
  {
   "cell_type": "code",
   "execution_count": null,
   "id": "fae05fb7-8b55-4824-8100-7e9fc5a6ecfa",
   "metadata": {
    "tags": []
   },
   "outputs": [],
   "source": [
    "model3_es = EarlyStopping(monitor = 'loss', min_delta = 1e-11, patience = 12, verbose = 1)\n",
    "model3_rlr = ReduceLROnPlateau(monitor = 'val_loss', factor = 0.2, patience = 6, verbose = 1)\n",
    "model3_mcp = ModelCheckpoint(filepath = '../models/model3_weights.h5', monitor = 'val_categorical_accuracy', \n",
    "                      save_best_only = True, verbose = 1)\n",
    "\n",
    "history3 = model3.fit(train, steps_per_epoch=5712//32, epochs=100, validation_data=test, validation_steps= 1311//32,\n",
    "                     callbacks=[model3_es, model3_rlr, model3_mcp])"
   ]
  },
  {
   "cell_type": "code",
   "execution_count": null,
   "id": "88a9cdf1-28c8-412f-ac73-f102bfc7f83e",
   "metadata": {
    "tags": []
   },
   "outputs": [],
   "source": [
    "model3.evaluate(test)"
   ]
  },
  {
   "cell_type": "code",
   "execution_count": null,
   "id": "f47ebe31-bba7-4330-b7d8-c72420f50a7b",
   "metadata": {},
   "outputs": [],
   "source": [
    "#Run this code to save the Model 3\n",
    "#model3.save('../models/model3.model')"
   ]
  },
  {
   "cell_type": "markdown",
   "id": "36c2832e-e6dc-4e55-b7a8-d4ed871c2caa",
   "metadata": {},
   "source": [
    "## MODEL 4"
   ]
  },
  {
   "cell_type": "code",
   "execution_count": null,
   "id": "603a4744-bcd3-4168-a2b6-394384cbee92",
   "metadata": {
    "tags": []
   },
   "outputs": [],
   "source": [
    "model4 = Sequential()\n",
    "\n",
    "# Layer 1\n",
    "model4.add(Conv2D(64,(7,7), input_shape=(200, 200, 1), padding='same', activation='relu'))\n",
    "model4.add(BatchNormalization())\n",
    "model4.add(MaxPooling2D(pool_size=(2,2)))\n",
    "\n",
    "# Layer 2\n",
    "model4.add(Conv2D(128,(7,7), padding='same', activation='relu'))\n",
    "model4.add(BatchNormalization())\n",
    "model4.add(MaxPooling2D(pool_size=(2,2)))\n",
    "\n",
    "# Layer 3\n",
    "model4.add(Conv2D(128,(7,7), padding='same', activation='relu'))\n",
    "model4.add(BatchNormalization())\n",
    "model4.add(MaxPooling2D(pool_size=(2,2)))\n",
    "\n",
    "# Layer 4\n",
    "model4.add(Conv2D(256,(7,7), padding='same', activation='relu'))\n",
    "model4.add(BatchNormalization())\n",
    "model4.add(MaxPooling2D(pool_size=(2,2)))\n",
    "\n",
    "# Layer 5\n",
    "model4.add(Conv2D(256,(7,7), padding='same', activation='relu'))\n",
    "model4.add(BatchNormalization())\n",
    "model4.add(MaxPooling2D(pool_size=(2,2)))\n",
    "\n",
    "# Layer 6\n",
    "model4.add(Conv2D(512,(7,7), padding='same', activation='relu'))\n",
    "model4.add(BatchNormalization())\n",
    "model4.add(MaxPooling2D(pool_size=(2,2)))\n",
    "\n",
    "model4.add(Flatten())\n",
    "\n",
    "\n",
    "# Connect layers\n",
    "model4.add(Dense(units= 1024, activation='relu'))\n",
    "model4.add(Dropout(0.3))\n",
    "model4.add(Dense(units=1024, activation='relu'))\n",
    "model4.add(Dropout(0.3))\n",
    "model4.add(Dense(units=4, activation='softmax'))\n",
    "\n",
    "\n",
    "model4.compile(optimizer=SGD(learning_rate=0.001), loss='categorical_crossentropy',\n",
    "                   metrics= ['categorical_accuracy'])\n",
    "\n",
    "\n",
    "model4.summary()"
   ]
  },
  {
   "cell_type": "code",
   "execution_count": null,
   "id": "0ac6c24a-407d-468b-a1ca-10511f1472a5",
   "metadata": {
    "tags": []
   },
   "outputs": [],
   "source": [
    "generator_train = ImageDataGenerator(rescale=1./255,\n",
    "                                    featurewise_center=False,\n",
    "                                    samplewise_center=False,\n",
    "                                    featurewise_std_normalization=False,\n",
    "                                    samplewise_std_normalization=False,\n",
    "                                    zca_whitening=False,\n",
    "                                    rotation_range=0,\n",
    "                                    zoom_range = 0,\n",
    "                                    width_shift_range=0,\n",
    "                                    height_shift_range=0,\n",
    "                                    horizontal_flip=True,\n",
    "                                    vertical_flip=False)\n",
    "\n",
    "generator_test = ImageDataGenerator(rescale=1./255,\n",
    "                                    featurewise_center=False,\n",
    "                                    samplewise_center=False,\n",
    "                                    featurewise_std_normalization=False,\n",
    "                                    samplewise_std_normalization=False,\n",
    "                                    zca_whitening=False,\n",
    "                                    rotation_range=0,\n",
    "                                    zoom_range = 0,\n",
    "                                    width_shift_range=0,\n",
    "                                    height_shift_range=0,\n",
    "                                    horizontal_flip=True,\n",
    "                                    vertical_flip=False)\n",
    "\n",
    "\n",
    "\n",
    "train = generator_train.flow_from_directory('../data/raw/Training', target_size=(200, 200),\n",
    "                                              batch_size=32, class_mode= \"categorical\", color_mode='grayscale')\n",
    "\n",
    "test = generator_test.flow_from_directory('../data/raw/Testing', target_size=(200, 200),\n",
    "                                              batch_size=32, class_mode= \"categorical\", color_mode='grayscale')"
   ]
  },
  {
   "cell_type": "code",
   "execution_count": null,
   "id": "6e826d1c-060b-41b8-a664-dc6940d1e16c",
   "metadata": {
    "tags": []
   },
   "outputs": [],
   "source": [
    "model4_es = EarlyStopping(monitor = 'loss', min_delta = 1e-11, patience = 12, verbose = 1)\n",
    "model4_rlr = ReduceLROnPlateau(monitor = 'val_loss', factor = 0.2, patience = 6, verbose = 1)\n",
    "model4_mcp = ModelCheckpoint(filepath = '../models/model4_weights.h5', monitor = 'val_accuracy_score', \n",
    "                      save_best_only = True, verbose = 1)\n",
    "\n",
    "history4 = model4.fit(train, steps_per_epoch=5712//32, epochs=50, validation_data=test, validation_steps= 1311//32,\n",
    "                     callbacks=[model4_es, model4_rlr, model4_mcp])"
   ]
  },
  {
   "cell_type": "code",
   "execution_count": null,
   "id": "76763837-f115-49c6-bced-a6e17577a9ff",
   "metadata": {
    "tags": []
   },
   "outputs": [],
   "source": [
    "model4.evaluate(test)"
   ]
  },
  {
   "cell_type": "code",
   "execution_count": null,
   "id": "51fad626-e9a1-491f-93af-a038737cfcde",
   "metadata": {},
   "outputs": [],
   "source": [
    "#Run this code to save the Model 4\n",
    "#model4.save('../models/model4.model')"
   ]
  },
  {
   "cell_type": "markdown",
   "id": "a2e5669f-5d1a-457e-bd8b-35f1bd0343e9",
   "metadata": {},
   "source": [
    "## MODEL 5"
   ]
  },
  {
   "cell_type": "code",
   "execution_count": null,
   "id": "f0696a3d-a262-4f07-a9be-699ab6c4b05a",
   "metadata": {
    "tags": []
   },
   "outputs": [],
   "source": [
    "model5 = Sequential()\n",
    "\n",
    "# Layer 1\n",
    "model5.add(Conv2D(64,(7,7), input_shape=(200, 200, 1), padding='same', activation='relu'))\n",
    "model5.add(BatchNormalization())\n",
    "model5.add(MaxPooling2D(pool_size=(2,2)))\n",
    "\n",
    "# Layer 2\n",
    "model5.add(Conv2D(128,(7,7), padding='same', activation='relu'))\n",
    "model5.add(BatchNormalization())\n",
    "model5.add(MaxPooling2D(pool_size=(2,2)))\n",
    "\n",
    "# Layer 3\n",
    "model5.add(Conv2D(128,(7,7), padding='same', activation='relu'))\n",
    "model5.add(BatchNormalization())\n",
    "model5.add(MaxPooling2D(pool_size=(2,2)))\n",
    "\n",
    "# Layer 4\n",
    "model5.add(Conv2D(256,(7,7), padding='same', activation='relu'))\n",
    "model5.add(BatchNormalization())\n",
    "model5.add(MaxPooling2D(pool_size=(2,2)))\n",
    "\n",
    "# Layer 5\n",
    "model5.add(Conv2D(256,(7,7), padding='same', activation='relu'))\n",
    "model5.add(BatchNormalization())\n",
    "model5.add(MaxPooling2D(pool_size=(2,2)))\n",
    "\n",
    "# Layer 6\n",
    "model5.add(Conv2D(512,(7,7), padding='same', activation='relu'))\n",
    "model5.add(BatchNormalization())\n",
    "model5.add(MaxPooling2D(pool_size=(2,2)))\n",
    "\n",
    "model5.add(Flatten())\n",
    "\n",
    "\n",
    "# Connect layers\n",
    "model5.add(Dense(units= 1024, activation='relu'))\n",
    "model5.add(Dropout(0.25))\n",
    "model5.add(Dense(units=512, activation='relu'))\n",
    "model5.add(Dropout(0.25))\n",
    "model5.add(Dense(units=4, activation='softmax'))\n",
    "\n",
    "\n",
    "model5.compile(optimizer=SGD(learning_rate=0.001), loss='categorical_crossentropy',\n",
    "                   metrics= ['categorical_accuracy'])\n",
    "\n",
    "\n",
    "model5.summary()"
   ]
  },
  {
   "cell_type": "code",
   "execution_count": null,
   "id": "40744fbf-d86e-4fba-b64a-9178eed0ee03",
   "metadata": {
    "tags": []
   },
   "outputs": [],
   "source": [
    "generator_train = ImageDataGenerator(rescale=1./255,\n",
    "                                    featurewise_center=False,\n",
    "                                    samplewise_center=False,\n",
    "                                    featurewise_std_normalization=False,\n",
    "                                    samplewise_std_normalization=False,\n",
    "                                    zca_whitening=False,\n",
    "                                    rotation_range=0,\n",
    "                                    zoom_range = 0,\n",
    "                                    width_shift_range=0,\n",
    "                                    height_shift_range=0,\n",
    "                                    horizontal_flip=True,\n",
    "                                    vertical_flip=False)\n",
    "\n",
    "generator_test = ImageDataGenerator(rescale=1./255,\n",
    "                                   featurewise_center=False,\n",
    "                                    samplewise_center=False,\n",
    "                                    featurewise_std_normalization=False,\n",
    "                                    samplewise_std_normalization=False,\n",
    "                                    zca_whitening=False,\n",
    "                                    rotation_range=0,\n",
    "                                    zoom_range = 0,\n",
    "                                    width_shift_range=0,\n",
    "                                    height_shift_range=0,\n",
    "                                    horizontal_flip=True,\n",
    "                                    vertical_flip=False)\n",
    "\n",
    "\n",
    "\n",
    "train = generator_train.flow_from_directory('../data/raw/Training', target_size=(200, 200),\n",
    "                                              batch_size=32, class_mode= \"categorical\", color_mode='grayscale')\n",
    "\n",
    "test = generator_test.flow_from_directory('../data/raw/Testing', target_size=(200, 200),\n",
    "                                              batch_size=32, class_mode= \"categorical\", color_mode='grayscale')"
   ]
  },
  {
   "cell_type": "code",
   "execution_count": null,
   "id": "115889d9-465d-409a-817b-b7fd8660eede",
   "metadata": {
    "tags": []
   },
   "outputs": [],
   "source": [
    "model5_es = EarlyStopping(monitor = 'loss', min_delta = 1e-11, patience = 12, verbose = 1)\n",
    "model5_rlr = ReduceLROnPlateau(monitor = 'val_loss', factor = 0.2, patience = 6, verbose = 1)\n",
    "model5_mcp = ModelCheckpoint(filepath = '../models/model5_weights.h5', monitor = 'val_categorical_accuracy', \n",
    "                      save_best_only = True, verbose = 1)\n",
    "\n",
    "history5 = model5.fit(train, steps_per_epoch=5712//32, epochs=50, validation_data=test, validation_steps= 1311//32,\n",
    "                     callbacks=[model5_es, model5_rlr, model5_mcp])"
   ]
  },
  {
   "cell_type": "code",
   "execution_count": null,
   "id": "6409d438-7056-4939-b132-4cada6a6996f",
   "metadata": {
    "tags": []
   },
   "outputs": [],
   "source": [
    "classes = train.class_indices"
   ]
  },
  {
   "cell_type": "code",
   "execution_count": null,
   "id": "cbe7b50d-cc19-4f77-8c76-8dfa47d055d0",
   "metadata": {
    "tags": []
   },
   "outputs": [],
   "source": [
    "print(classes)"
   ]
  },
  {
   "cell_type": "code",
   "execution_count": null,
   "id": "46a82018-a44f-4228-ab81-ece274c8ad28",
   "metadata": {},
   "outputs": [],
   "source": [
    "model5.evaluate(test)"
   ]
  },
  {
   "cell_type": "code",
   "execution_count": null,
   "id": "8b1fe8f3-a8ce-4237-92d8-6fa619401d2e",
   "metadata": {
    "tags": []
   },
   "outputs": [],
   "source": [
    "#Run this code to save the Model 5\n",
    "#model5.save('../models/model5.model')"
   ]
  },
  {
   "cell_type": "markdown",
   "id": "364f0f51-510f-4d1d-a095-fda487eedf1f",
   "metadata": {},
   "source": [
    "# DO NOT RUN THE FOLLOWING CELLS IF THE MODELS 1-4 WERE ALREADY SAVED"
   ]
  },
  {
   "cell_type": "markdown",
   "id": "1110cda4-3586-4aa0-89af-c15ae1bd6895",
   "metadata": {},
   "source": [
    "These were run here due to an issue with the web browser crashing during model 5 execution, fortunately python kept running in the background and model managed to finish successfully."
   ]
  },
  {
   "cell_type": "code",
   "execution_count": null,
   "id": "14d7bb2f-c18c-4d41-85a0-ede98f984b2b",
   "metadata": {
    "tags": []
   },
   "outputs": [],
   "source": [
    "#model1.save('../models/model1.model')"
   ]
  },
  {
   "cell_type": "code",
   "execution_count": null,
   "id": "b1e65ea6-cdb8-4532-8fde-6c01476ac830",
   "metadata": {
    "tags": []
   },
   "outputs": [],
   "source": [
    "#model2.save('../models/model2.model')"
   ]
  },
  {
   "cell_type": "code",
   "execution_count": null,
   "id": "ff50634c-5ef3-4058-80f0-2ffc23a48511",
   "metadata": {
    "tags": []
   },
   "outputs": [],
   "source": [
    "#model3.save('../models/model3.model')"
   ]
  },
  {
   "cell_type": "code",
   "execution_count": null,
   "id": "40e1f462-77b9-44f6-aa1f-208b9a6c828a",
   "metadata": {
    "tags": []
   },
   "outputs": [],
   "source": [
    "#model4.save('../models/model4.model')"
   ]
  },
  {
   "cell_type": "markdown",
   "id": "408fd2a5-b46e-436b-a222-5e2dbb9f109a",
   "metadata": {},
   "source": [
    "# Models performance graphs"
   ]
  },
  {
   "cell_type": "code",
   "execution_count": null,
   "id": "3da26061-30c0-4dea-952b-a83a789bfdb6",
   "metadata": {
    "tags": []
   },
   "outputs": [],
   "source": [
    "#Plotting only the models that managed to finish. Since model 4 was interrupted it didn´t save history, so I have plotted only 1, 2, 3 and 5.\n",
    "\n",
    "fig, axs = plt.subplots(4, 2, figsize=(20,18))\n",
    "\n",
    "axs[0, 0].plot(history1.history[\"loss\"],c = \"purple\")\n",
    "axs[0, 0].plot(history1.history[\"val_loss\"],c = \"orange\")\n",
    "axs[0, 0].set_ylim([-0.1,2])\n",
    "axs[0, 0].legend([\"train\", \"test\"])\n",
    "axs[0, 0].set_title('Model 1 Loss')\n",
    "\n",
    "axs[0, 1].plot(history1.history[\"categorical_accuracy\"],c = \"purple\")\n",
    "axs[0, 1].plot(history1.history[\"val_categorical_accuracy\"],c = \"orange\")\n",
    "axs[0, 1].set_ylim([0.8,1.1])\n",
    "axs[0, 1].legend([\"train\", \"test\"])\n",
    "axs[0, 1].set_title('Model 1 Accuracy')\n",
    "\n",
    "axs[1, 0].plot(history2.history[\"loss\"],c = \"purple\")\n",
    "axs[1, 0].plot(history2.history[\"val_loss\"],c = \"orange\")\n",
    "axs[1, 0].set_ylim([-0.1,2])\n",
    "axs[1, 0].legend([\"train\", \"test\"])\n",
    "axs[1, 0].set_title('Model_2 Loss')\n",
    "\n",
    "axs[1, 1].plot(history2.history[\"categorical_accuracy\"],c = \"purple\")\n",
    "axs[1, 1].plot(history2.history[\"val_categorical_accuracy\"],c = \"orange\")\n",
    "axs[1, 1].set_ylim([0.5,1.1])\n",
    "axs[1, 1].legend([\"train\", \"test\"])\n",
    "axs[1, 1].set_title('Model_2 Acurracy')\n",
    "\n",
    "axs[2, 0].plot(history3.history[\"loss\"],c = \"purple\")\n",
    "axs[2, 0].plot(history3.history[\"val_loss\"],c = \"orange\")\n",
    "axs[2, 0].set_ylim([-0.1,2])\n",
    "axs[2, 0].legend([\"train\", \"test\"])\n",
    "axs[2, 0].set_title('Model_3 Loss')\n",
    "\n",
    "axs[2, 1].plot(history3.history[\"categorical_accuracy\"],c = \"purple\")\n",
    "axs[2, 1].plot(history3.history[\"val_categorical_accuracy\"],c = \"orange\")\n",
    "axs[2, 1].set_ylim([0.8,1.1])\n",
    "axs[2, 1].legend([\"train\", \"test\"])\n",
    "axs[2, 1].set_title('Model 3 Accuracy')\n",
    "\n",
    "axs[3, 0].plot(history5.history[\"loss\"],c = \"purple\")\n",
    "axs[3, 0].plot(history5.history[\"val_loss\"],c = \"orange\")\n",
    "axs[3, 0].set_ylim([-0.1,2])\n",
    "axs[3, 0].legend([\"train\", \"test\"])\n",
    "axs[3, 0].set_title('Model 5 Loss')\n",
    "\n",
    "axs[3, 1].plot(history5.history[\"categorical_accuracy\"],c = \"purple\")\n",
    "axs[3, 1].plot(history5.history[\"val_categorical_accuracy\"],c = \"orange\")\n",
    "axs[3, 1].set_ylim([0.8,1.1])\n",
    "axs[3, 1].legend([\"train\", \"test\"])\n",
    "axs[3, 1].set_title('Model 5 Accuracy')\n",
    "\n",
    "plt.savefig('../models/models_performance.png')"
   ]
  },
  {
   "cell_type": "code",
   "execution_count": null,
   "id": "dded13ac-b8a3-4279-814e-93df4f75d0b8",
   "metadata": {
    "tags": []
   },
   "outputs": [],
   "source": [
    "import numpy as np\n",
    "from sklearn.utils import shuffle\n",
    "from sklearn.model_selection import train_test_split\n",
    "from sklearn.metrics import classification_report\n",
    "from sklearn.metrics import confusion_matrix, ConfusionMatrixDisplay\n",
    "from PIL import Image, ImageEnhance\n",
    "import warnings\n",
    "warnings.filterwarnings(\"ignore\")\n",
    "import os\n",
    "os.environ['TF_CPP_MIN_LOG_LEVEL'] = '3'\n",
    "import yaml\n",
    "\n",
    "# For ML Models\n",
    "from tensorflow import keras\n",
    "from tensorflow.keras.layers import *\n",
    "from tensorflow.keras.losses import *\n",
    "from tensorflow.keras.models import *\n",
    "from tensorflow.keras.metrics import *\n",
    "from tensorflow.keras.optimizers import *\n",
    "from tensorflow.keras.applications import *\n",
    "from tensorflow.keras.callbacks import ModelCheckpoint, EarlyStopping\n",
    "from tensorflow.keras.preprocessing.image import load_img\n",
    "from tensorflow.keras.preprocessing.image import ImageDataGenerator\n",
    "\n",
    "import tensorflow as tf\n",
    "from tensorflow import keras\n",
    "from tensorflow.keras import Model\n",
    "\n",
    "from tensorflow.keras.utils import plot_model\n",
    "from tensorflow.keras.layers import Input, Dense, BatchNormalization\n",
    "from IPython.core.display import Image\n",
    "\n",
    "import matplotlib.pyplot as plt\n",
    "import seaborn as sns\n",
    "\n",
    "from tqdm import tqdm\n",
    "import random\n",
    "import os\n",
    "import keras\n",
    "from keras.models import Sequential\n",
    "from keras.layers import Conv2D, MaxPooling2D, Flatten, Dense, Dropout, BatchNormalization\n",
    "from PIL import Image\n",
    "import numpy as np\n",
    "import pandas as pd\n",
    "import matplotlib.pyplot as plt\n",
    "from matplotlib.pyplot import imshow\n",
    "from sklearn.model_selection import train_test_split\n",
    "from sklearn.preprocessing import OneHotEncoder"
   ]
  },
  {
   "cell_type": "markdown",
   "id": "e264ce85-5cd3-4003-890a-132222f07988",
   "metadata": {},
   "source": [
    "## Final model"
   ]
  },
  {
   "cell_type": "code",
   "execution_count": 16,
   "id": "f52d7eff-b65c-49d6-a8b3-c809fb5ef056",
   "metadata": {
    "tags": []
   },
   "outputs": [
    {
     "name": "stdout",
     "output_type": "stream",
     "text": [
      "Found 5712 images belonging to 4 classes.\n",
      "Found 1311 images belonging to 4 classes.\n"
     ]
    }
   ],
   "source": [
    "generator_train = ImageDataGenerator(rescale=1./255,\n",
    "                                    featurewise_center=False,\n",
    "                                    samplewise_center=False,\n",
    "                                    brightness_range= [0.8,1.2],\n",
    "                                    featurewise_std_normalization=False,\n",
    "                                    samplewise_std_normalization=False,\n",
    "                                    zca_whitening=False,\n",
    "                                    rotation_range=15,\n",
    "                                    zoom_range = 0,\n",
    "                                    width_shift_range=0,\n",
    "                                    height_shift_range=0,\n",
    "                                    horizontal_flip=True,\n",
    "                                    vertical_flip=False)\n",
    "\n",
    "generator_test = ImageDataGenerator(rescale=1./255,\n",
    "                                    featurewise_center=False,\n",
    "                                    samplewise_center=False,\n",
    "                                    brightness_range= [0.8,1.2],\n",
    "                                    featurewise_std_normalization=False,\n",
    "                                    samplewise_std_normalization=False,\n",
    "                                    zca_whitening=False,\n",
    "                                    rotation_range=15,\n",
    "                                    zoom_range = 0,\n",
    "                                    width_shift_range=0,\n",
    "                                    height_shift_range=0,\n",
    "                                    horizontal_flip=True,\n",
    "                                    vertical_flip=False)\n",
    "\n",
    "\n",
    "\n",
    "train = generator_train.flow_from_directory(config['data']['raw']+'/Training', target_size=(128, 128),\n",
    "                                              batch_size=20, class_mode= \"categorical\", color_mode='rgb')\n",
    "\n",
    "test = generator_test.flow_from_directory(config['data']['raw']+'/Testing', target_size=(128, 128),\n",
    "                                              batch_size=20, class_mode= \"categorical\", color_mode='rgb')"
   ]
  },
  {
   "cell_type": "code",
   "execution_count": 17,
   "id": "02ed3c55-d069-4d9d-9ad7-66dad3475430",
   "metadata": {
    "tags": []
   },
   "outputs": [
    {
     "name": "stdout",
     "output_type": "stream",
     "text": [
      "Model: \"vgg16\"\n",
      "_________________________________________________________________\n",
      " Layer (type)                Output Shape              Param #   \n",
      "=================================================================\n",
      " input_2 (InputLayer)        [(None, 128, 128, 3)]     0         \n",
      "                                                                 \n",
      " block1_conv1 (Conv2D)       (None, 128, 128, 64)      1792      \n",
      "                                                                 \n",
      " block1_conv2 (Conv2D)       (None, 128, 128, 64)      36928     \n",
      "                                                                 \n",
      " block1_pool (MaxPooling2D)  (None, 64, 64, 64)        0         \n",
      "                                                                 \n",
      " block2_conv1 (Conv2D)       (None, 64, 64, 128)       73856     \n",
      "                                                                 \n",
      " block2_conv2 (Conv2D)       (None, 64, 64, 128)       147584    \n",
      "                                                                 \n",
      " block2_pool (MaxPooling2D)  (None, 32, 32, 128)       0         \n",
      "                                                                 \n",
      " block3_conv1 (Conv2D)       (None, 32, 32, 256)       295168    \n",
      "                                                                 \n",
      " block3_conv2 (Conv2D)       (None, 32, 32, 256)       590080    \n",
      "                                                                 \n",
      " block3_conv3 (Conv2D)       (None, 32, 32, 256)       590080    \n",
      "                                                                 \n",
      " block3_pool (MaxPooling2D)  (None, 16, 16, 256)       0         \n",
      "                                                                 \n",
      " block4_conv1 (Conv2D)       (None, 16, 16, 512)       1180160   \n",
      "                                                                 \n",
      " block4_conv2 (Conv2D)       (None, 16, 16, 512)       2359808   \n",
      "                                                                 \n",
      " block4_conv3 (Conv2D)       (None, 16, 16, 512)       2359808   \n",
      "                                                                 \n",
      " block4_pool (MaxPooling2D)  (None, 8, 8, 512)         0         \n",
      "                                                                 \n",
      " block5_conv1 (Conv2D)       (None, 8, 8, 512)         2359808   \n",
      "                                                                 \n",
      " block5_conv2 (Conv2D)       (None, 8, 8, 512)         2359808   \n",
      "                                                                 \n",
      " block5_conv3 (Conv2D)       (None, 8, 8, 512)         2359808   \n",
      "                                                                 \n",
      " block5_pool (MaxPooling2D)  (None, 4, 4, 512)         0         \n",
      "                                                                 \n",
      "=================================================================\n",
      "Total params: 14,714,688\n",
      "Trainable params: 7,079,424\n",
      "Non-trainable params: 7,635,264\n",
      "_________________________________________________________________\n"
     ]
    }
   ],
   "source": [
    "#Import VGG16 - Very Deep Convolutional Networks for Large-Scale Image Recognition\n",
    "base_model = VGG16(input_shape=(128,128,3), include_top=False, weights='imagenet')\n",
    "\n",
    "# Set all layers to non-trainable\n",
    "for layer in base_model.layers:\n",
    "    layer.trainable = False\n",
    "\n",
    "# Set the last vgg16 block to trainable\n",
    "base_model.layers[-2].trainable = True\n",
    "base_model.layers[-3].trainable = True\n",
    "base_model.layers[-4].trainable = True\n",
    "\n",
    "model = Sequential(name='Brain_Tumor_Scanner')\n",
    "model.add(Input(shape=(128,128,3)))\n",
    "model.add(base_model)\n",
    "model.add(Flatten())\n",
    "model.add(Dropout(0.3))\n",
    "model.add(Dense(128, activation='relu'))\n",
    "model.add(Dropout(0.2))\n",
    "model.add(Dense(4, activation='softmax'))\n",
    "\n",
    "model.compile(optimizer=Adam(learning_rate=0.0001),\n",
    "             loss='categorical_crossentropy',\n",
    "             metrics=['categorical_accuracy'])\n",
    "\n",
    "base_model.summary()"
   ]
  },
  {
   "cell_type": "code",
   "execution_count": 18,
   "id": "1c32e7f8-7d45-43f2-a178-52006f7c840c",
   "metadata": {
    "tags": []
   },
   "outputs": [
    {
     "name": "stdout",
     "output_type": "stream",
     "text": [
      "Model: \"Brain_Tumor_Scanner\"\n",
      "_________________________________________________________________\n",
      " Layer (type)                Output Shape              Param #   \n",
      "=================================================================\n",
      " vgg16 (Functional)          (None, 4, 4, 512)         14714688  \n",
      "                                                                 \n",
      " flatten (Flatten)           (None, 8192)              0         \n",
      "                                                                 \n",
      " dropout (Dropout)           (None, 8192)              0         \n",
      "                                                                 \n",
      " dense (Dense)               (None, 128)               1048704   \n",
      "                                                                 \n",
      " dropout_1 (Dropout)         (None, 128)               0         \n",
      "                                                                 \n",
      " dense_1 (Dense)             (None, 4)                 516       \n",
      "                                                                 \n",
      "=================================================================\n",
      "Total params: 15,763,908\n",
      "Trainable params: 8,128,644\n",
      "Non-trainable params: 7,635,264\n",
      "_________________________________________________________________\n"
     ]
    }
   ],
   "source": [
    "model.summary()"
   ]
  },
  {
   "cell_type": "code",
   "execution_count": 19,
   "id": "3925be41-8453-41fe-9b65-64cc4a4b0b01",
   "metadata": {
    "tags": []
   },
   "outputs": [
    {
     "name": "stdout",
     "output_type": "stream",
     "text": [
      "Epoch 1/6\n",
      "285/285 [==============================] - ETA: 0s - loss: 0.4698 - categorical_accuracy: 0.8226\n",
      "Epoch 1: categorical_accuracy improved from -inf to 0.82256, saving model to ../models/final_model_weights.h5\n",
      "285/285 [==============================] - 232s 810ms/step - loss: 0.4698 - categorical_accuracy: 0.8226 - val_loss: 0.4880 - val_categorical_accuracy: 0.8175\n",
      "Epoch 2/6\n",
      "285/285 [==============================] - ETA: 0s - loss: 0.2640 - categorical_accuracy: 0.9021\n",
      "Epoch 2: categorical_accuracy improved from 0.82256 to 0.90214, saving model to ../models/final_model_weights.h5\n",
      "285/285 [==============================] - 244s 857ms/step - loss: 0.2640 - categorical_accuracy: 0.9021 - val_loss: 0.3175 - val_categorical_accuracy: 0.8863\n",
      "Epoch 3/6\n",
      "285/285 [==============================] - ETA: 0s - loss: 0.1871 - categorical_accuracy: 0.9297\n",
      "Epoch 3: categorical_accuracy improved from 0.90214 to 0.92973, saving model to ../models/final_model_weights.h5\n",
      "285/285 [==============================] - 238s 835ms/step - loss: 0.1871 - categorical_accuracy: 0.9297 - val_loss: 0.1892 - val_categorical_accuracy: 0.9237\n",
      "Epoch 4/6\n",
      "285/285 [==============================] - ETA: 0s - loss: 0.1690 - categorical_accuracy: 0.9376\n",
      "Epoch 4: categorical_accuracy improved from 0.92973 to 0.93763, saving model to ../models/final_model_weights.h5\n",
      "285/285 [==============================] - 241s 844ms/step - loss: 0.1690 - categorical_accuracy: 0.9376 - val_loss: 0.1873 - val_categorical_accuracy: 0.9375\n",
      "Epoch 5/6\n",
      "285/285 [==============================] - ETA: 0s - loss: 0.1266 - categorical_accuracy: 0.9527\n",
      "Epoch 5: categorical_accuracy improved from 0.93763 to 0.95274, saving model to ../models/final_model_weights.h5\n",
      "285/285 [==============================] - 247s 868ms/step - loss: 0.1266 - categorical_accuracy: 0.9527 - val_loss: 0.0805 - val_categorical_accuracy: 0.9700\n",
      "Epoch 6/6\n",
      "285/285 [==============================] - ETA: 0s - loss: 0.0972 - categorical_accuracy: 0.9652\n",
      "Epoch 6: categorical_accuracy improved from 0.95274 to 0.96521, saving model to ../models/final_model_weights.h5\n",
      "285/285 [==============================] - 250s 877ms/step - loss: 0.0972 - categorical_accuracy: 0.9652 - val_loss: 0.1634 - val_categorical_accuracy: 0.9362\n"
     ]
    }
   ],
   "source": [
    "final_model_mcp = ModelCheckpoint(filepath = config['models']+'final_model_weights.h5', monitor = 'categorical_accuracy', \n",
    "                      save_best_only = True, verbose = 2)\n",
    "final_model_es = EarlyStopping(monitor = 'loss', min_delta = 1e-10, patience = 12, verbose = 1)\n",
    "\n",
    "\n",
    "history = model.fit(train, steps_per_epoch=5712//20, epochs=6, validation_data=test, validation_steps= 1311//32,\n",
    "                    callbacks=[final_model_es, final_model_mcp])"
   ]
  },
  {
   "cell_type": "code",
   "execution_count": 21,
   "id": "b5d50315-5b6e-43fb-b2b6-d99d3681ff7c",
   "metadata": {
    "tags": []
   },
   "outputs": [
    {
     "name": "stdout",
     "output_type": "stream",
     "text": [
      "66/66 [==============================] - 34s 514ms/step - loss: 0.1285 - categorical_accuracy: 0.9542\n"
     ]
    },
    {
     "data": {
      "text/plain": [
       "[0.12846098840236664, 0.9542334079742432]"
      ]
     },
     "execution_count": 21,
     "metadata": {},
     "output_type": "execute_result"
    }
   ],
   "source": [
    "model.evaluate(test)"
   ]
  },
  {
   "cell_type": "code",
   "execution_count": 33,
   "id": "474f588c-eb4e-4974-8842-3a9b0d70a902",
   "metadata": {
    "tags": []
   },
   "outputs": [
    {
     "data": {
      "image/png": "[encoded data removed]",
      "text/plain": [
       "<Figure size 1500x500 with 2 Axes>"
      ]
     },
     "metadata": {},
     "output_type": "display_data"
    }
   ],
   "source": [
    "fig, axes = plt.subplots(1, 2, figsize=(15,5))\n",
    "\n",
    "axes[0].plot(history.history[\"loss\"],c = \"purple\")\n",
    "axes[0].plot(history.history[\"val_loss\"],c = \"orange\")\n",
    "axes[0].set_ylim([-0.1,2])\n",
    "axes[0].legend([\"train\", \"test\"])\n",
    "axes[0].set_title('Final Model Loss')\n",
    "\n",
    "axes[1].plot(history.history[\"categorical_accuracy\"],c = \"purple\")\n",
    "axes[1].plot(history.history[\"val_categorical_accuracy\"],c = \"orange\")\n",
    "axes[1].set_ylim([0.8,1.1])\n",
    "axes[1].legend([\"train\", \"test\"])\n",
    "axes[1].set_title('Final Model Accuracy')\n",
    "\n",
    "plt.tight_layout()\n",
    "plt.show()"
   ]
  },
  {
   "cell_type": "code",
   "execution_count": 34,
   "id": "15c520c2-d096-4ad6-8544-f725eabcb163",
   "metadata": {
    "tags": []
   },
   "outputs": [
    {
     "name": "stdout",
     "output_type": "stream",
     "text": [
      "[0 1 2 ... 3 1 0]\n"
     ]
    }
   ],
   "source": [
    "preds = model.predict_generator(test)\n",
    "y_pred = np.argmax(preds, axis=1)\n",
    "print(y_pred)"
   ]
  },
  {
   "cell_type": "code",
   "execution_count": 42,
   "id": "419bae8f-5073-470f-b630-4efd995d758d",
   "metadata": {
    "tags": []
   },
   "outputs": [
    {
     "name": "stdout",
     "output_type": "stream",
     "text": [
      "              precision    recall  f1-score   support\n",
      "\n",
      "      glioma       0.20      0.22      0.21       300\n",
      "  meningioma       0.22      0.20      0.21       306\n",
      "     notumor       0.32      0.32      0.32       405\n",
      "   pituitary       0.23      0.23      0.23       300\n",
      "\n",
      "    accuracy                           0.25      1311\n",
      "   macro avg       0.24      0.24      0.24      1311\n",
      "weighted avg       0.25      0.25      0.25      1311\n",
      "\n"
     ]
    }
   ],
   "source": [
    "print(classification_report(test.classes, y_pred, target_names= classes))"
   ]
  },
  {
   "cell_type": "code",
   "execution_count": 41,
   "id": "917015b1-3f97-405a-8931-542367eda366",
   "metadata": {
    "tags": []
   },
   "outputs": [
    {
     "data": {
      "image/png": "[encoded data removed]",
      "text/plain": [
       "<Figure size 640x480 with 2 Axes>"
      ]
     },
     "metadata": {},
     "output_type": "display_data"
    }
   ],
   "source": [
    "g_dict = test.class_indices\n",
    "classes = list(g_dict.keys())\n",
    "\n",
    "# Confusion matrix\n",
    "cm = confusion_matrix(test.classes, y_pred)\n",
    "display_cm = ConfusionMatrixDisplay(cm, display_labels=classes)\n",
    "display_cm.plot()\n",
    "plt.tight_layout()\n",
    "plt.show()"
   ]
  },
  {
   "cell_type": "markdown",
   "id": "ed4c43af-4c78-4679-b0c8-d3314bb74cc3",
   "metadata": {},
   "source": [
    "It looks like the problem is how the images are fed into the model, since the last one achieved a much higher performance in the final_model notebook."
   ]
  },
  {
   "cell_type": "code",
   "execution_count": null,
   "id": "3236bb0c-ffa4-4e5c-b25d-2548d5cb4ec6",
   "metadata": {},
   "outputs": [],
   "source": []
  }
 ],
 "metadata": {
  "kernelspec": {
   "display_name": "Python 3 (ipykernel)",
   "language": "python",
   "name": "python3"
  },
  "language_info": {
   "codemirror_mode": {
    "name": "ipython",
    "version": 3
   },
   "file_extension": ".py",
   "mimetype": "text/x-python",
   "name": "python",
   "nbconvert_exporter": "python",
   "pygments_lexer": "ipython3",
   "version": "3.10.6"
  }
 },
 "nbformat": 4,
 "nbformat_minor": 5
}
