{
 "cells": [
  {
   "cell_type": "code",
   "execution_count": 1,
   "id": "15b10496-04f0-4aa8-bf15-be947a252314",
   "metadata": {
    "tags": []
   },
   "outputs": [],
   "source": [
    "import pandas as pd\n",
    "import numpy as np\n",
    "import PIL as pil\n",
    "from PIL import Image as img\n",
    "import os\n",
    "import shutil\n",
    "import gdown\n",
    "from random import sample\n",
    "import sys\n",
    "import yaml"
   ]
  },
  {
   "cell_type": "code",
   "execution_count": 2,
   "id": "e9dfd030-6834-46f6-9db0-efd31be143db",
   "metadata": {},
   "outputs": [],
   "source": [
    "try:\n",
    "    with open (\"../config.yaml\", 'r') as file:\n",
    "        config = yaml.safe_load(file)\n",
    "except Exception as e:\n",
    "    print('Error reading the config file')"
   ]
  },
  {
   "cell_type": "code",
   "execution_count": 3,
   "id": "b088871e-5156-4788-87e4-d365becc7f5c",
   "metadata": {
    "tags": []
   },
   "outputs": [],
   "source": [
    "sys.path.insert(0, os.path.abspath(config['lib']))\n",
    "import functions as f\n",
    "try:\n",
    "    os.mkdir(config['data']['raw'])\n",
    "    os.mkdir(config['data']['clean'])\n",
    "    os.mkdir(config['data']['clean']+'tumor')\n",
    "except:\n",
    "    pass"
   ]
  },
  {
   "cell_type": "code",
   "execution_count": 4,
   "id": "23d7d06d-8261-4d99-abee-4d9c678f829f",
   "metadata": {
    "tags": []
   },
   "outputs": [
    {
     "name": "stderr",
     "output_type": "stream",
     "text": [
      "Downloading...\n",
      "From: https://drive.google.com/uc?id=1ZwTbaZwJYs0b20wtdpNYWZrOWvDo0FQD\n",
      "To: /home/juan/Documents/Ironhack/Week_9/Final_project/data/raw/brain_tumor_dataset.zip\n",
      "100%|████████████████████████████████████████████████████████████████████████████████████████████████████| 156M/156M [00:08<00:00, 18.4MB/s]\n"
     ]
    }
   ],
   "source": [
    "url = 'https://drive.google.com/uc?id=1ZwTbaZwJYs0b20wtdpNYWZrOWvDo0FQD'\n",
    "output = config['data']['raw']+'brain_tumor_dataset.zip'\n",
    "unzip = config['data']['raw']\n",
    "gdown.download(url, output, quiet=False)\n",
    "shutil.unpack_archive(output, unzip)\n",
    "os.remove(output)"
   ]
  },
  {
   "cell_type": "code",
   "execution_count": 5,
   "id": "5d286267-93fb-425d-be08-ed755a5cd584",
   "metadata": {
    "tags": []
   },
   "outputs": [
    {
     "name": "stdout",
     "output_type": "stream",
     "text": [
      "Initial number of pictures: 7023\n",
      "\n",
      "Checking and resizing pictures if needed, please wait\n",
      "\n",
      "Working on the test set...\n",
      "118 images of meningioma resized\n",
      "4 images of pituitary resized\n",
      "0 images of glioma resized\n",
      "402 images of notumor resized\n",
      "\n",
      "Working on the train set...\n",
      "140 images of meningioma resized\n",
      "39 images of pituitary resized\n",
      "0 images of glioma resized\n",
      "1574 images of notumor resized\n",
      "\n",
      "Image rescaling finished. Pictures stored in data/clean\n",
      "Number of pictures: 7019\n",
      "Pictures not processed: 4\n",
      "\n",
      "\n",
      "Upsampling the pictures by rotating...\n",
      "Upsampling done!\n",
      "\n",
      "9980 pictures on the non-tumor class\n",
      "10046 pictures on the tumor class\n",
      "\n",
      "Number of pictures of both classes adjusted to 9980\n"
     ]
    }
   ],
   "source": [
    "f.image_solver()"
   ]
  },
  {
   "cell_type": "code",
   "execution_count": null,
   "id": "2c3a4ca0-fac4-42d4-8c78-6fa3ce82e3f4",
   "metadata": {
    "tags": []
   },
   "outputs": [],
   "source": []
  }
 ],
 "metadata": {
  "kernelspec": {
   "display_name": "venv",
   "language": "python",
   "name": "venv"
  },
  "language_info": {
   "codemirror_mode": {
    "name": "ipython",
    "version": 3
   },
   "file_extension": ".py",
   "mimetype": "text/x-python",
   "name": "python",
   "nbconvert_exporter": "python",
   "pygments_lexer": "ipython3",
   "version": "3.10.6"
  }
 },
 "nbformat": 4,
 "nbformat_minor": 5
}
