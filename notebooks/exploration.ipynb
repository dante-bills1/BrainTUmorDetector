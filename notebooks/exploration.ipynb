{
 "cells": [
  {
   "cell_type": "markdown",
   "id": "0a09e81f-747b-48ab-9581-b3ab3f8d3368",
   "metadata": {},
   "source": [
    "# This is a secondary exploration notebook to further evaluate models and predictions.\n",
    "# Not to be taken as the main one, feel free to play with it."
   ]
  },
  {
   "cell_type": "code",
   "execution_count": 8,
   "id": "bc9a1b79-4f5d-4738-8ad5-6848686be795",
   "metadata": {
    "tags": []
   },
   "outputs": [],
   "source": [
    "import pandas as pd\n",
    "import numpy as np\n",
    "from sklearn.utils import shuffle\n",
    "from sklearn.metrics import confusion_matrix, ConfusionMatrixDisplay, classification_report\n",
    "from PIL import Image, ImageEnhance\n",
    "import random\n",
    "from tqdm.auto import tqdm\n",
    "import gdown\n",
    "import shutil\n",
    "import warnings\n",
    "warnings.filterwarnings(\"ignore\")\n",
    "import os\n",
    "os.environ['TF_CPP_MIN_LOG_LEVEL'] = '3'\n",
    "import yaml\n",
    "try:\n",
    "    with open (\"../config.yaml\", 'r') as file:\n",
    "        config = yaml.safe_load(file)\n",
    "except Exception as e:\n",
    "    print('Error reading the config file')\n",
    "import sys\n",
    "import pickle\n",
    "\n",
    "# ML Models\n",
    "import tensorflow as tf\n",
    "from tensorflow import keras\n",
    "from tensorflow.keras.layers import *\n",
    "from tensorflow.keras.losses import *\n",
    "from tensorflow.keras.models import *\n",
    "from tensorflow.keras.metrics import *\n",
    "from tensorflow.keras.optimizers import *\n",
    "from tensorflow.keras.applications import *\n",
    "from tensorflow.keras.callbacks import ModelCheckpoint, EarlyStopping, ReduceLROnPlateau\n",
    "from tensorflow.keras.preprocessing.image import load_img\n",
    "\n",
    "import matplotlib.pyplot as plt\n",
    "from matplotlib.pyplot import imshow"
   ]
  },
  {
   "cell_type": "markdown",
   "id": "f6edd606-0999-4cf2-82b4-d50e17ff0804",
   "metadata": {},
   "source": [
    "## Loading models, prediction dictionary and pictures to evaluate."
   ]
  },
  {
   "cell_type": "code",
   "execution_count": 9,
   "id": "61661f60-e51b-46b0-a73a-ffc6e8f57adb",
   "metadata": {
    "tags": []
   },
   "outputs": [],
   "source": [
    "bts = tf.keras.models.load_model(config['models']+'bts.model')\n",
    "trl = tf.keras.models.load_model(config['models']+'trl.model')"
   ]
  },
  {
   "cell_type": "markdown",
   "id": "d4d83e44-83bd-4f49-863d-f3b6f25334c8",
   "metadata": {},
   "source": [
    "## Renaming models for easier read"
   ]
  },
  {
   "cell_type": "code",
   "execution_count": 100,
   "id": "a7feb914-79e7-4b5e-ad42-07f11f7aa524",
   "metadata": {
    "tags": []
   },
   "outputs": [],
   "source": [
    "bts._name = 'BTS'"
   ]
  },
  {
   "cell_type": "code",
   "execution_count": 101,
   "id": "68fab271-5a26-4490-ae8e-0fd16552b1fc",
   "metadata": {
    "tags": []
   },
   "outputs": [
    {
     "data": {
      "text/plain": [
       "'BTS'"
      ]
     },
     "execution_count": 101,
     "metadata": {},
     "output_type": "execute_result"
    }
   ],
   "source": [
    "bts.name"
   ]
  },
  {
   "cell_type": "code",
   "execution_count": 102,
   "id": "8e0215af-ff29-4f1c-8021-b529a840178e",
   "metadata": {
    "tags": []
   },
   "outputs": [],
   "source": [
    "trl._name = 'TRL'"
   ]
  },
  {
   "cell_type": "code",
   "execution_count": 103,
   "id": "9f3d7bff-53ef-4ea8-b1a7-eb79254cd463",
   "metadata": {
    "tags": []
   },
   "outputs": [
    {
     "data": {
      "text/plain": [
       "'TRL'"
      ]
     },
     "execution_count": 103,
     "metadata": {},
     "output_type": "execute_result"
    }
   ],
   "source": [
    "trl.name"
   ]
  },
  {
   "cell_type": "code",
   "execution_count": 10,
   "id": "d70348d9-67d8-4d49-b4d3-5f1bd5f0e4ac",
   "metadata": {
    "tags": []
   },
   "outputs": [],
   "source": [
    "with open('../src/lib/pred_dict.pickle', 'rb') as handle:\n",
    "    pred_dict = pickle.load(handle)"
   ]
  },
  {
   "cell_type": "code",
   "execution_count": 69,
   "id": "6b0fbc7d-57cc-4cff-8ac1-bd301c461c9c",
   "metadata": {},
   "outputs": [],
   "source": [
    "glioma1 = config['diagnose']+'glioma1.jpg'\n",
    "glioma2 = config['diagnose']+'glioma2.jpg'\n",
    "glioma3 = config['diagnose']+'glioma3.jpg'\n",
    "glioma4 = config['diagnose']+'glioma4.jpg'\n",
    "glioma5 = config['diagnose']+'glioma5.jpg'\n",
    "\n",
    "meningioma1 = config['diagnose']+'meningioma1.jpg'\n",
    "meningioma2 = config['diagnose']+'meningioma2.jpg'\n",
    "meningioma3 = config['diagnose']+'meningioma3.jpg'\n",
    "meningioma4 = config['diagnose']+'meningioma4.jpg'\n",
    "\n",
    "notumor1 = config['diagnose']+'notumor1.jpg'\n",
    "notumor2 = config['diagnose']+'notumor2.jpg'\n",
    "notumor3 = config['diagnose']+'notumor3.jpg'\n",
    "\n",
    "pituitary1 = config['diagnose']+'pituitary1.jpg'\n",
    "pituitary2 = config['diagnose']+'pituitary2.jpg'"
   ]
  },
  {
   "cell_type": "markdown",
   "id": "0c5e8ca8-9926-4895-a973-5cd602c2047c",
   "metadata": {},
   "source": [
    "## Functions version 1 - with second opinion from model TRL when no tumor is detected.\n",
    "## We take advantage of TRL model performing better at detecting no tumors, so if it detects a tumor after the BTS model didn't, it will recommend user to consult a doctor for further revision."
   ]
  },
  {
   "cell_type": "code",
   "execution_count": 17,
   "id": "608e156e-00fb-472f-91e8-97f31976aa64",
   "metadata": {
    "tags": []
   },
   "outputs": [],
   "source": [
    "def image_prep(image):\n",
    "    img = Image.open(image)\n",
    "    img = Image.fromarray(np.uint8(img))\n",
    "    img = ImageEnhance.Brightness(img).enhance(1)\n",
    "    img = ImageEnhance.Contrast(img).enhance(1)\n",
    "    return img\n",
    "\n",
    "def conclusion(number):\n",
    "    if number == 0:\n",
    "        return pred_dict[0]\n",
    "    elif number == 1:\n",
    "        return pred_dict[1]\n",
    "    elif number == 2:\n",
    "        return pred_dict[2]\n",
    "    elif number == 3:\n",
    "        return pred_dict[3]\n",
    "    else:\n",
    "        return 'Sorry, not clear'\n",
    "\n",
    "def diagnose(image, model=bts):    \n",
    "    img = image_prep(image)\n",
    "    x = np.array(img.resize((128,128)))\n",
    "    x = x.reshape(1,128,128,3)\n",
    "    x = np.array(x)/255.0\n",
    "    res = model.predict_on_batch(x)\n",
    "    classification = np.where(res == np.amax(res))[1][0]\n",
    "    diagnose = (conclusion(classification))\n",
    "    if classification == 1:\n",
    "        if model == bts:\n",
    "            print('BTS model has concluded that there is no tumor.')\n",
    "            print('Using TRL model to make sure it is not a false negative, as this model performs better in these cases.')\n",
    "            res = trl.predict_on_batch(x)\n",
    "            classification = np.where(res == np.amax(res))[1][0]\n",
    "            if classification == 1:\n",
    "                diagnose = (conclusion(classification))\n",
    "                image = img.resize((500,500))\n",
    "                print('TRL model has confirmed the diagnosis:')\n",
    "                print('No tumor detected')\n",
    "                imshow(image)\n",
    "            else:\n",
    "                diagnose = (conclusion(classification))\n",
    "                image = img.resize((500,500))\n",
    "                print('TLR model has concluded:'+diagnose)\n",
    "                print(diagnose)\n",
    "                print('Please consult a doctor as there is no clear conclusion.')\n",
    "                imshow(image)\n",
    "\n",
    "    else:\n",
    "        image = img.resize((500,500))\n",
    "        print(diagnose)\n",
    "        imshow(image)"
   ]
  },
  {
   "cell_type": "markdown",
   "id": "232242de-d61f-423b-9dc4-670c701cb638",
   "metadata": {},
   "source": [
    "## Version 2 function: displays the confidence levels."
   ]
  },
  {
   "cell_type": "code",
   "execution_count": 105,
   "id": "cd9935bb-0c94-4801-a439-f509b40e3b8a",
   "metadata": {
    "tags": []
   },
   "outputs": [],
   "source": [
    "def image_prep(image):\n",
    "    img = Image.open(image)\n",
    "    img = Image.fromarray(np.uint8(img))\n",
    "    img = ImageEnhance.Brightness(img).enhance(1)\n",
    "    img = ImageEnhance.Contrast(img).enhance(1)\n",
    "    return img\n",
    "\n",
    "def diagnose(image, model=bts):    \n",
    "    img = image_prep(image)\n",
    "    x = np.array(img.resize((128,128)))\n",
    "    x = x.reshape(1,128,128,3)\n",
    "    x = np.array(x)/255.0\n",
    "    res = model.predict_on_batch(x)\n",
    "    score = max(res[0])\n",
    "    lbl = tf.nn.softmax(res[0])\n",
    "    print(\"{}. confidence: {:.2f} %. Model used: {}\"\n",
    "    .format(pred_dict[np.argmax(lbl)], 100 * score, model.name))"
   ]
  },
  {
   "cell_type": "code",
   "execution_count": 106,
   "id": "c2f3c6e8-a9cf-4494-a428-a949f0127179",
   "metadata": {
    "tags": []
   },
   "outputs": [
    {
     "name": "stdout",
     "output_type": "stream",
     "text": [
      "Tumor detected - Glioma. confidence: 99.88 %. Model used: BTS\n",
      "Tumor detected - Glioma. confidence: 100.00 %. Model used: TRL\n",
      "Tumor detected - Glioma. confidence: 100.00 %. Model used: BTS\n",
      "Tumor detected - Glioma. confidence: 100.00 %. Model used: TRL\n",
      "Tumor detected - Glioma. confidence: 100.00 %. Model used: BTS\n",
      "Tumor detected - Glioma. confidence: 100.00 %. Model used: TRL\n",
      "Tumor detected - Glioma. confidence: 98.12 %. Model used: BTS\n",
      "Tumor detected - Glioma. confidence: 100.00 %. Model used: TRL\n"
     ]
    }
   ],
   "source": [
    "diagnose(glioma1)\n",
    "diagnose(glioma1, trl)\n",
    "diagnose(glioma2)\n",
    "diagnose(glioma2, trl)\n",
    "diagnose(glioma3)\n",
    "diagnose(glioma3, trl)\n",
    "diagnose(glioma4)\n",
    "diagnose(glioma4, trl)"
   ]
  },
  {
   "cell_type": "code",
   "execution_count": 104,
   "id": "a8d0d8e3-a194-475f-8e3a-23e5aac97805",
   "metadata": {},
   "outputs": [
    {
     "name": "stdout",
     "output_type": "stream",
     "text": [
      "No tumor detected. confidence: 99.63 %. Model used: BTS\n",
      "No tumor detected. confidence: 100.00 %. Model used: TRL\n",
      "No tumor detected. confidence: 100.00 %. Model used: BTS\n",
      "No tumor detected. confidence: 99.82 %. Model used: TRL\n",
      "No tumor detected. confidence: 100.00 %. Model used: BTS\n",
      "No tumor detected. confidence: 100.00 %. Model used: TRL\n"
     ]
    }
   ],
   "source": [
    "diagnose(notumor1)\n",
    "diagnose(notumor1, trl)\n",
    "diagnose(notumor2)\n",
    "diagnose(notumor2, trl)\n",
    "diagnose(notumor3)\n",
    "diagnose(notumor3, trl)"
   ]
  },
  {
   "cell_type": "code",
   "execution_count": 70,
   "id": "e16d5a91-6b66-4821-860d-ccf8bb621214",
   "metadata": {},
   "outputs": [
    {
     "name": "stdout",
     "output_type": "stream",
     "text": [
      "Tumor detected - Meningioma. Confidence: 98.46 %.\n",
      "Tumor detected - Meningioma. Confidence: 99.99 %.\n",
      "Tumor detected - Meningioma. Confidence: 100.00 %.\n",
      "Tumor detected - Meningioma. Confidence: 100.00 %.\n",
      "Tumor detected - Meningioma. Confidence: 100.00 %.\n",
      "Tumor detected - Meningioma. Confidence: 100.00 %.\n",
      "Tumor detected - Meningioma. Confidence: 96.16 %.\n",
      "Tumor detected - Meningioma. Confidence: 99.01 %.\n"
     ]
    }
   ],
   "source": [
    "diagnose(meningioma1)\n",
    "diagnose(meningioma1, trl)\n",
    "diagnose(meningioma2)\n",
    "diagnose(meningioma2, trl)\n",
    "diagnose(meningioma3)\n",
    "diagnose(meningioma3, trl)\n",
    "diagnose(meningioma4)\n",
    "diagnose(meningioma4, trl)"
   ]
  },
  {
   "cell_type": "code",
   "execution_count": 97,
   "id": "a44dda71-5caf-4d62-bc7c-d3997cbc3206",
   "metadata": {
    "tags": []
   },
   "outputs": [
    {
     "name": "stdout",
     "output_type": "stream",
     "text": [
      "Tumor detected - Pituitary. confidence: 100.00 %. Model used: Brain_Tumor_Scanner\n",
      "Tumor detected - Pituitary. confidence: 100.00 %. Model used: Brain_Tumor_Scanner_TRL\n",
      "Tumor detected - Pituitary. confidence: 100.00 %. Model used: Brain_Tumor_Scanner\n",
      "Tumor detected - Pituitary. confidence: 100.00 %. Model used: Brain_Tumor_Scanner_TRL\n"
     ]
    }
   ],
   "source": [
    "diagnose(pituitary1)\n",
    "diagnose(pituitary1, trl)\n",
    "diagnose(pituitary2)\n",
    "diagnose(pituitary2, trl)"
   ]
  }
 ],
 "metadata": {
  "kernelspec": {
   "display_name": "Python 3 (ipykernel)",
   "language": "python",
   "name": "python3"
  },
  "language_info": {
   "codemirror_mode": {
    "name": "ipython",
    "version": 3
   },
   "file_extension": ".py",
   "mimetype": "text/x-python",
   "name": "python",
   "nbconvert_exporter": "python",
   "pygments_lexer": "ipython3",
   "version": "3.10.9"
  }
 },
 "nbformat": 4,
 "nbformat_minor": 5
}
